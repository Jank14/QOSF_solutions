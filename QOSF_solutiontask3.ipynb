{
  "nbformat": 4,
  "nbformat_minor": 0,
  "metadata": {
    "colab": {
      "name": "QOSF_solutiontask3.ipynb",
      "provenance": [],
      "collapsed_sections": []
    },
    "kernelspec": {
      "name": "python3",
      "display_name": "Python 3"
    }
  },
  "cells": [
    {
      "cell_type": "markdown",
      "metadata": {
        "id": "bcY4tJLXIVZt"
      },
      "source": [
        "The following simulator works with any number of gates"
      ]
    },
    {
      "cell_type": "code",
      "metadata": {
        "id": "BY7L5m9NFyHj"
      },
      "source": [
        "import random\r\n",
        "import numpy as np\r\n",
        "import math"
      ],
      "execution_count": null,
      "outputs": []
    },
    {
      "cell_type": "code",
      "metadata": {
        "id": "kOQfd-BJBrYd"
      },
      "source": [
        "l=['0']\r\n",
        "from collections import deque\r\n",
        "def generate(n):\r\n",
        "    q = deque()\r\n",
        "    q.append('1')\r\n",
        "    for i in range(n):\r\n",
        "        front = str(q.popleft())\r\n",
        "        q.append(front + '0')\r\n",
        "        q.append(front + '1')\r\n",
        "        l.append(front)\r\n",
        "    return l"
      ],
      "execution_count": null,
      "outputs": []
    },
    {
      "cell_type": "code",
      "metadata": {
        "id": "QfKh6V_AEzc1"
      },
      "source": [
        "def Y_gate():\r\n",
        "  Y=np.array([[0,-1j],[1j,0]])\r\n",
        "  return Y\r\n",
        "\r\n",
        "def Z_gate():\r\n",
        "  Z=np.array([[1,0],[0,-1]])\r\n",
        "  return Z\r\n",
        "\r\n",
        "def S_gate():\r\n",
        "  S=np.array([[1,0],[0,1j]])\r\n",
        "  return S\r\n",
        "\r\n",
        "def T_gate():\r\n",
        "  val=(1+1j)/math.sqrt(2)\r\n",
        "  T=np.array([[1,0],[0,val]])\r\n",
        "  return T"
      ],
      "execution_count": null,
      "outputs": []
    },
    {
      "cell_type": "code",
      "metadata": {
        "id": "0E9lTvoFF-31"
      },
      "source": [
        "def X_gate():\r\n",
        "   X = np.array([[0, 1],[1, 0]])\r\n",
        "   return X\r\n",
        "\r\n",
        "def Hadamard():\r\n",
        "  H = np.array([[1/np.sqrt(2), 1/np.sqrt(2)],[1/np.sqrt(2), -1/np.sqrt(2)]])\r\n",
        "  return H\r\n",
        "\r\n",
        "def CNot(total_qubits,target_qubits):\r\n",
        "  X = np.array([[0, 1],[1, 0]])\r\n",
        "  # Define 2x2 Identity\r\n",
        "\r\n",
        "  I = np.identity(2)\r\n",
        "  # Define projection operator |0><0|\r\n",
        "\r\n",
        "  P0x0 = np.array([[1, 0],[0, 0]])\r\n",
        "\r\n",
        "  # Define projection operator |1><1|\r\n",
        "\r\n",
        "  P1x1 = np.array([[0, 0],[0, 1]])\r\n",
        "  ans0=[]\r\n",
        "  ans1=[]\r\n",
        "  for i in range(total_qubits):\r\n",
        "    if i==target_qubits[0]:\r\n",
        "      ans0.append(P0x0)\r\n",
        "      ans1.append(P1x1)\r\n",
        "    elif i==target_qubits[1]:\r\n",
        "      ans0.append(I)\r\n",
        "      ans1.append(X)\r\n",
        "    else:\r\n",
        "      ans0.append(I)\r\n",
        "      ans1.append(I)\r\n",
        "  operator0=np.kron(ans0[0],ans0[1])\r\n",
        "  operator1=np.kron(ans1[0],ans1[1])\r\n",
        "  for i in range(2,total_qubits):\r\n",
        "    operator0=np.kron(operator0,ans0[i])\r\n",
        "    operator1=np.kron(operator1,ans1[i])\r\n",
        "  return operator0+operator1\r\n",
        "\r\n",
        "def get_power(num):\r\n",
        "    power=0\r\n",
        "    while(num>1):\r\n",
        "      num=num/2\r\n",
        "      power+=1\r\n",
        "    return power"
      ],
      "execution_count": null,
      "outputs": []
    },
    {
      "cell_type": "code",
      "metadata": {
        "id": "pJ4ZZBO4ByvO"
      },
      "source": [
        "def get_ground_state(num_qubits):\r\n",
        "    # return vector of size 2**num_qubits with all zeroes except first element which is 1\r\n",
        "    state_vector=[0]*2**num_qubits\r\n",
        "    state_vector[0]=1\r\n",
        "    return state_vector\r\n",
        "\r\n",
        "def get_operator(total_qubits, gate_unitary, target_qubits):\r\n",
        "    I=np.identity(2)\r\n",
        "    if gate_unitary=='cx':\r\n",
        "      return CNot(total_qubits,target_qubits)\r\n",
        "    elif gate_unitary=='x':\r\n",
        "      gate=X_gate()\r\n",
        "    elif gate_unitary=='h':\r\n",
        "      gate=Hadamard()\r\n",
        "    elif gate_unitary=='y':\r\n",
        "      gate=Y_gate()\r\n",
        "    elif gate_unitary=='z':\r\n",
        "      gate=Z_gate()\r\n",
        "    elif gate_unitary=='s':\r\n",
        "      gate=S_gate()\r\n",
        "    elif gate_unitary=='t':\r\n",
        "      gate=T_gate()\r\n",
        "    ans=[]\r\n",
        "    for i in range(total_qubits):\r\n",
        "      if i==target_qubits[0]:\r\n",
        "        ans.append(gate)\r\n",
        "      else:\r\n",
        "        ans.append(I)\r\n",
        "  #ans[target_qubits[0]]=gate\r\n",
        "    op=np.kron(ans[0],ans[1])\r\n",
        "    for i in range(2,total_qubits):\r\n",
        "      op=np.kron(op,ans[i])\r\n",
        "    return op\r\n",
        "\r\n",
        "def run_program(initial_state, program):\r\n",
        "    # read program, and for each gate\r\n",
        "    #   - calculate matrix operator\r\n",
        "    #   - multiply state with operator\r\n",
        "    # return final state\r\n",
        "    current_state=initial_state\r\n",
        "    for i in range(len(program)):\r\n",
        "      total_qubits=get_power(len(current_state))\r\n",
        "      operator=get_operator(total_qubits,program[i]['gate'],program[i]['target'])\r\n",
        "      current_state=np.dot(current_state,operator)\r\n",
        "    return current_state\r\n",
        "\r\n",
        "def measure_all(state_vector):\r\n",
        "    # choose element from state_vector using weighted random and return it's index\r\n",
        "    return\r\n",
        "\r\n",
        "def get_counts(state_vector, num_shots):\r\n",
        "    # simply execute measure_all in a loop num_shots times and\r\n",
        "    # return object with statistics in following form:\r\n",
        "    #   {\r\n",
        "    #      element_index: number_of_ocurrences,\r\n",
        "    #      element_index: number_of_ocurrences,\r\n",
        "    #      element_index: number_of_ocurrences,\r\n",
        "    #      ...\r\n",
        "    #   }\r\n",
        "    # (only for elements which occoured - returned from measure_all)\r\n",
        "    d={}\r\n",
        "    arr=[]\r\n",
        "    cnt=0\r\n",
        "    n=len(state_vector)\r\n",
        "    l=generate(n-1)\r\n",
        "    correct=[]\r\n",
        "    p=get_power(n)\r\n",
        "    for i in range(n):\r\n",
        "      if(len(l[i])!=p):\r\n",
        "         diff=p-len(l[i])\r\n",
        "         correct.append(l[i].rjust(diff + len(l[i]), '0'))\r\n",
        "      else:\r\n",
        "        correct.append(l[i])\r\n",
        "    arr=correct\r\n",
        "    probability_distribution=[]\r\n",
        "    for i in state_vector:\r\n",
        "      probability_distribution.append(i*i)\r\n",
        "      #arr.append(cnt)\r\n",
        "      cnt+=1\r\n",
        "    ans=random.choices(arr,probability_distribution,k=num_shots)\r\n",
        "    for i in range(len(arr)):\r\n",
        "      d[arr[i]]=ans.count(arr[i])\r\n",
        "    counts_nz={}\r\n",
        "    for i in d.keys():\r\n",
        "      if(d[i]!=0):\r\n",
        "        counts_nz[i]=d[i]\r\n",
        "    return counts_nz"
      ],
      "execution_count": null,
      "outputs": []
    },
    {
      "cell_type": "code",
      "metadata": {
        "colab": {
          "base_uri": "https://localhost:8080/"
        },
        "id": "rZGZST-lH_Hj",
        "outputId": "cb733f65-31ce-46c0-d171-1b884f601d09"
      },
      "source": [
        "my_circuit = [\r\n",
        "{ \"gate\": \"h\", \"target\": [0] }, \r\n",
        "{ \"gate\": \"cx\", \"target\": [0, 1] }\r\n",
        "]\r\n",
        "\r\n",
        "\r\n",
        "# Create \"quantum computer\" with 2 qubits (this is actually just a vector :) )\r\n",
        "\r\n",
        "my_qpu = get_ground_state(2)\r\n",
        "\r\n",
        "\r\n",
        "# Run circuit\r\n",
        "\r\n",
        "final_state = run_program(my_qpu, my_circuit)\r\n",
        "\r\n",
        "\r\n",
        "# Read results\r\n",
        "\r\n",
        "counts = get_counts(final_state, 1000)\r\n",
        "\r\n",
        "print(counts)\r\n",
        "\r\n",
        "# Should print something like:\r\n",
        "# {\r\n",
        "#   \"00\": 502,\r\n",
        "#   \"11\": 498\r\n",
        "# }\r\n"
      ],
      "execution_count": null,
      "outputs": [
        {
          "output_type": "stream",
          "text": [
            "{'00': 502, '11': 498}\n"
          ],
          "name": "stdout"
        }
      ]
    }
  ]
}